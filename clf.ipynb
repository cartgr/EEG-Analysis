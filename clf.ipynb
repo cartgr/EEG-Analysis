{
 "cells": [
  {
   "cell_type": "code",
   "execution_count": 95,
   "metadata": {},
   "outputs": [
    {
     "name": "stdout",
     "output_type": "stream",
     "text": [
      "1.0.2\n"
     ]
    }
   ],
   "source": [
    "import numpy as np\n",
    "import pandas as pd\n",
    "import glob\n",
    "import os\n",
    "import sklearn\n",
    "from sklearn.model_selection import train_test_split\n",
    "from sklearn.linear_model import LinearRegression\n",
    "from matplotlib import pyplot as plt\n",
    "from sklearn.neural_network import MLPClassifier\n",
    "from sklearn.metrics import plot_confusion_matrix\n",
    "from sklearn.model_selection import cross_val_score\n",
    "from sklearn.metrics import balanced_accuracy_score\n",
    "from sklearn.metrics import accuracy_score\n",
    "import tensorflow as tf\n",
    "import autokeras as ak\n",
    "print(sklearn.__version__)"
   ]
  },
  {
   "cell_type": "code",
   "execution_count": 96,
   "metadata": {},
   "outputs": [
    {
     "data": {
      "text/html": [
       "<div>\n",
       "<style scoped>\n",
       "    .dataframe tbody tr th:only-of-type {\n",
       "        vertical-align: middle;\n",
       "    }\n",
       "\n",
       "    .dataframe tbody tr th {\n",
       "        vertical-align: top;\n",
       "    }\n",
       "\n",
       "    .dataframe thead th {\n",
       "        text-align: right;\n",
       "    }\n",
       "</style>\n",
       "<table border=\"1\" class=\"dataframe\">\n",
       "  <thead>\n",
       "    <tr style=\"text-align: right;\">\n",
       "      <th></th>\n",
       "      <th>x</th>\n",
       "      <th>y</th>\n",
       "      <th>ch1</th>\n",
       "      <th>ch2</th>\n",
       "      <th>ch3</th>\n",
       "      <th>ch4</th>\n",
       "      <th>ch5</th>\n",
       "    </tr>\n",
       "  </thead>\n",
       "  <tbody>\n",
       "    <tr>\n",
       "      <th>0</th>\n",
       "      <td>736.371158</td>\n",
       "      <td>-57.176591</td>\n",
       "      <td>-294.453871</td>\n",
       "      <td>20.475154</td>\n",
       "      <td>13.347498</td>\n",
       "      <td>161.519995</td>\n",
       "      <td>-15.115560</td>\n",
       "    </tr>\n",
       "    <tr>\n",
       "      <th>1</th>\n",
       "      <td>740.371158</td>\n",
       "      <td>-57.176591</td>\n",
       "      <td>-210.957777</td>\n",
       "      <td>3.873592</td>\n",
       "      <td>-0.324377</td>\n",
       "      <td>75.582495</td>\n",
       "      <td>-80.545247</td>\n",
       "    </tr>\n",
       "    <tr>\n",
       "      <th>2</th>\n",
       "      <td>740.371158</td>\n",
       "      <td>-57.176591</td>\n",
       "      <td>167.460192</td>\n",
       "      <td>-9.310002</td>\n",
       "      <td>-12.531409</td>\n",
       "      <td>145.406714</td>\n",
       "      <td>-50.760091</td>\n",
       "    </tr>\n",
       "    <tr>\n",
       "      <th>3</th>\n",
       "      <td>740.371158</td>\n",
       "      <td>-57.176591</td>\n",
       "      <td>162.577379</td>\n",
       "      <td>-9.310002</td>\n",
       "      <td>-13.996252</td>\n",
       "      <td>226.949683</td>\n",
       "      <td>4.415690</td>\n",
       "    </tr>\n",
       "    <tr>\n",
       "      <th>4</th>\n",
       "      <td>740.371158</td>\n",
       "      <td>-57.176591</td>\n",
       "      <td>-213.887465</td>\n",
       "      <td>-12.727971</td>\n",
       "      <td>-11.554846</td>\n",
       "      <td>176.656714</td>\n",
       "      <td>-5.349935</td>\n",
       "    </tr>\n",
       "    <tr>\n",
       "      <th>...</th>\n",
       "      <td>...</td>\n",
       "      <td>...</td>\n",
       "      <td>...</td>\n",
       "      <td>...</td>\n",
       "      <td>...</td>\n",
       "      <td>...</td>\n",
       "      <td>...</td>\n",
       "    </tr>\n",
       "    <tr>\n",
       "      <th>153974</th>\n",
       "      <td>-482.396034</td>\n",
       "      <td>-150.688553</td>\n",
       "      <td>-27.197122</td>\n",
       "      <td>-7.419651</td>\n",
       "      <td>19.427400</td>\n",
       "      <td>0.325911</td>\n",
       "      <td>23.524150</td>\n",
       "    </tr>\n",
       "    <tr>\n",
       "      <th>153975</th>\n",
       "      <td>-482.396034</td>\n",
       "      <td>-150.688553</td>\n",
       "      <td>6.494284</td>\n",
       "      <td>-9.861057</td>\n",
       "      <td>17.962557</td>\n",
       "      <td>4.720442</td>\n",
       "      <td>41.102275</td>\n",
       "    </tr>\n",
       "    <tr>\n",
       "      <th>153976</th>\n",
       "      <td>-482.396034</td>\n",
       "      <td>-150.688553</td>\n",
       "      <td>32.373191</td>\n",
       "      <td>-4.001682</td>\n",
       "      <td>7.220369</td>\n",
       "      <td>36.947004</td>\n",
       "      <td>66.981181</td>\n",
       "    </tr>\n",
       "    <tr>\n",
       "      <th>153977</th>\n",
       "      <td>-482.396034</td>\n",
       "      <td>-150.688553</td>\n",
       "      <td>14.306784</td>\n",
       "      <td>4.299099</td>\n",
       "      <td>4.778963</td>\n",
       "      <td>41.341536</td>\n",
       "      <td>73.328838</td>\n",
       "    </tr>\n",
       "    <tr>\n",
       "      <th>153978</th>\n",
       "      <td>-482.396034</td>\n",
       "      <td>-145.688553</td>\n",
       "      <td>-17.431497</td>\n",
       "      <td>-4.978244</td>\n",
       "      <td>8.685213</td>\n",
       "      <td>4.720442</td>\n",
       "      <td>40.613994</td>\n",
       "    </tr>\n",
       "  </tbody>\n",
       "</table>\n",
       "<p>153979 rows × 7 columns</p>\n",
       "</div>"
      ],
      "text/plain": [
       "                 x           y         ch1        ch2        ch3         ch4  \\\n",
       "0       736.371158  -57.176591 -294.453871  20.475154  13.347498  161.519995   \n",
       "1       740.371158  -57.176591 -210.957777   3.873592  -0.324377   75.582495   \n",
       "2       740.371158  -57.176591  167.460192  -9.310002 -12.531409  145.406714   \n",
       "3       740.371158  -57.176591  162.577379  -9.310002 -13.996252  226.949683   \n",
       "4       740.371158  -57.176591 -213.887465 -12.727971 -11.554846  176.656714   \n",
       "...            ...         ...         ...        ...        ...         ...   \n",
       "153974 -482.396034 -150.688553  -27.197122  -7.419651  19.427400    0.325911   \n",
       "153975 -482.396034 -150.688553    6.494284  -9.861057  17.962557    4.720442   \n",
       "153976 -482.396034 -150.688553   32.373191  -4.001682   7.220369   36.947004   \n",
       "153977 -482.396034 -150.688553   14.306784   4.299099   4.778963   41.341536   \n",
       "153978 -482.396034 -145.688553  -17.431497  -4.978244   8.685213    4.720442   \n",
       "\n",
       "              ch5  \n",
       "0      -15.115560  \n",
       "1      -80.545247  \n",
       "2      -50.760091  \n",
       "3        4.415690  \n",
       "4       -5.349935  \n",
       "...           ...  \n",
       "153974  23.524150  \n",
       "153975  41.102275  \n",
       "153976  66.981181  \n",
       "153977  73.328838  \n",
       "153978  40.613994  \n",
       "\n",
       "[153979 rows x 7 columns]"
      ]
     },
     "execution_count": 96,
     "metadata": {},
     "output_type": "execute_result"
    }
   ],
   "source": [
    "files = os.path.join(\"/Users/carterblair/EEG-Analysis/train_files\", \"*.csv\")\n",
    "files = glob.glob(files)\n",
    "\n",
    "df = pd.DataFrame()\n",
    "\n",
    "for fl in files:\n",
    "    temp_df = pd.read_csv(fl)\n",
    "    temp_df = temp_df - temp_df.mean()\n",
    "    df = pd.concat([df, temp_df], ignore_index=True)\n",
    "df.columns=[\"x\",\"y\",\"ch1\",\"ch2\",\"ch3\",\"ch4\",\"ch5\"]\n",
    "df"
   ]
  },
  {
   "cell_type": "code",
   "execution_count": 97,
   "metadata": {},
   "outputs": [
    {
     "data": {
      "text/html": [
       "<div>\n",
       "<style scoped>\n",
       "    .dataframe tbody tr th:only-of-type {\n",
       "        vertical-align: middle;\n",
       "    }\n",
       "\n",
       "    .dataframe tbody tr th {\n",
       "        vertical-align: top;\n",
       "    }\n",
       "\n",
       "    .dataframe thead th {\n",
       "        text-align: right;\n",
       "    }\n",
       "</style>\n",
       "<table border=\"1\" class=\"dataframe\">\n",
       "  <thead>\n",
       "    <tr style=\"text-align: right;\">\n",
       "      <th></th>\n",
       "      <th>x</th>\n",
       "      <th>y</th>\n",
       "    </tr>\n",
       "  </thead>\n",
       "  <tbody>\n",
       "    <tr>\n",
       "      <th>0</th>\n",
       "      <td>0.0</td>\n",
       "      <td>0.0</td>\n",
       "    </tr>\n",
       "    <tr>\n",
       "      <th>1</th>\n",
       "      <td>4.0</td>\n",
       "      <td>0.0</td>\n",
       "    </tr>\n",
       "    <tr>\n",
       "      <th>2</th>\n",
       "      <td>0.0</td>\n",
       "      <td>0.0</td>\n",
       "    </tr>\n",
       "    <tr>\n",
       "      <th>3</th>\n",
       "      <td>0.0</td>\n",
       "      <td>0.0</td>\n",
       "    </tr>\n",
       "    <tr>\n",
       "      <th>4</th>\n",
       "      <td>0.0</td>\n",
       "      <td>0.0</td>\n",
       "    </tr>\n",
       "    <tr>\n",
       "      <th>...</th>\n",
       "      <td>...</td>\n",
       "      <td>...</td>\n",
       "    </tr>\n",
       "    <tr>\n",
       "      <th>153974</th>\n",
       "      <td>0.0</td>\n",
       "      <td>0.0</td>\n",
       "    </tr>\n",
       "    <tr>\n",
       "      <th>153975</th>\n",
       "      <td>0.0</td>\n",
       "      <td>0.0</td>\n",
       "    </tr>\n",
       "    <tr>\n",
       "      <th>153976</th>\n",
       "      <td>0.0</td>\n",
       "      <td>0.0</td>\n",
       "    </tr>\n",
       "    <tr>\n",
       "      <th>153977</th>\n",
       "      <td>0.0</td>\n",
       "      <td>0.0</td>\n",
       "    </tr>\n",
       "    <tr>\n",
       "      <th>153978</th>\n",
       "      <td>0.0</td>\n",
       "      <td>5.0</td>\n",
       "    </tr>\n",
       "  </tbody>\n",
       "</table>\n",
       "<p>153979 rows × 2 columns</p>\n",
       "</div>"
      ],
      "text/plain": [
       "          x    y\n",
       "0       0.0  0.0\n",
       "1       4.0  0.0\n",
       "2       0.0  0.0\n",
       "3       0.0  0.0\n",
       "4       0.0  0.0\n",
       "...     ...  ...\n",
       "153974  0.0  0.0\n",
       "153975  0.0  0.0\n",
       "153976  0.0  0.0\n",
       "153977  0.0  0.0\n",
       "153978  0.0  5.0\n",
       "\n",
       "[153979 rows x 2 columns]"
      ]
     },
     "execution_count": 97,
     "metadata": {},
     "output_type": "execute_result"
    }
   ],
   "source": [
    "# Find direction cursor moved\n",
    "targets = df[['x','y']].copy()\n",
    "targets = targets.diff()\n",
    "targets['x'][0] = 0\n",
    "targets['y'][0] = 0\n",
    "targets"
   ]
  },
  {
   "cell_type": "code",
   "execution_count": 98,
   "metadata": {},
   "outputs": [
    {
     "name": "stdout",
     "output_type": "stream",
     "text": [
      "17750\n"
     ]
    }
   ],
   "source": [
    "new_targ = targets[['x','y']].copy()\n",
    "i = new_targ[((new_targ.x == 0) & (new_targ.y == 0))].index  #find all rows with no cursor movement\n",
    "new_targ = new_targ.drop(i) #drop all rows with no cursor movement\n",
    "\n",
    "# zero out least significant component\n",
    "new_targ.loc[(abs(new_targ['x'])>abs(new_targ['y'])), 'y'] = 0 \n",
    "new_targ.loc[(abs(new_targ['x'])<abs(new_targ['y'])), 'x'] = 0\n",
    "\n",
    "# set significant component to 1 or -1 based on its sign\n",
    "new_targ.loc[new_targ['x']<0, 'x'] = -1\n",
    "new_targ.loc[new_targ['x']>0, 'x'] = 1\n",
    "new_targ.loc[new_targ['y']<0, 'y'] = -1\n",
    "new_targ.loc[new_targ['y']>0, 'y'] = 1\n",
    "\n",
    "\n",
    "y_df = new_targ[['y']].copy()\n",
    "\n",
    "# make 4 classes:\n",
    "#   1 = left\n",
    "#   2 = right\n",
    "#   3 = down\n",
    "#   4 = up\n",
    "y_df.loc[(new_targ['x']<0), 'y']=1\n",
    "y_df.loc[(new_targ['x']>0), 'y']=2\n",
    "y_df.loc[(new_targ['y']<0), 'y']=3\n",
    "y_df.loc[(new_targ['y']>0), 'y']=4\n",
    "\n",
    "y = y_df.to_numpy()\n",
    "print(len(y))\n"
   ]
  },
  {
   "cell_type": "code",
   "execution_count": 99,
   "metadata": {},
   "outputs": [
    {
     "name": "stdout",
     "output_type": "stream",
     "text": [
      "17750\n"
     ]
    },
    {
     "data": {
      "text/html": [
       "<div>\n",
       "<style scoped>\n",
       "    .dataframe tbody tr th:only-of-type {\n",
       "        vertical-align: middle;\n",
       "    }\n",
       "\n",
       "    .dataframe tbody tr th {\n",
       "        vertical-align: top;\n",
       "    }\n",
       "\n",
       "    .dataframe thead th {\n",
       "        text-align: right;\n",
       "    }\n",
       "</style>\n",
       "<table border=\"1\" class=\"dataframe\">\n",
       "  <thead>\n",
       "    <tr style=\"text-align: right;\">\n",
       "      <th></th>\n",
       "      <th>ch1</th>\n",
       "      <th>ch2</th>\n",
       "      <th>ch3</th>\n",
       "      <th>ch4</th>\n",
       "      <th>ch5</th>\n",
       "    </tr>\n",
       "  </thead>\n",
       "  <tbody>\n",
       "    <tr>\n",
       "      <th>1</th>\n",
       "      <td>-210.957777</td>\n",
       "      <td>3.873592</td>\n",
       "      <td>-0.324377</td>\n",
       "      <td>75.582495</td>\n",
       "      <td>-80.545247</td>\n",
       "    </tr>\n",
       "    <tr>\n",
       "      <th>12</th>\n",
       "      <td>104.471910</td>\n",
       "      <td>-7.845158</td>\n",
       "      <td>-7.648596</td>\n",
       "      <td>205.465308</td>\n",
       "      <td>24.435221</td>\n",
       "    </tr>\n",
       "    <tr>\n",
       "      <th>24</th>\n",
       "      <td>348.612535</td>\n",
       "      <td>-0.032658</td>\n",
       "      <td>-3.742346</td>\n",
       "      <td>199.117652</td>\n",
       "      <td>60.079753</td>\n",
       "    </tr>\n",
       "    <tr>\n",
       "      <th>33</th>\n",
       "      <td>247.538317</td>\n",
       "      <td>-4.427189</td>\n",
       "      <td>1.628748</td>\n",
       "      <td>252.828589</td>\n",
       "      <td>20.528971</td>\n",
       "    </tr>\n",
       "    <tr>\n",
       "      <th>36</th>\n",
       "      <td>215.311754</td>\n",
       "      <td>24.381404</td>\n",
       "      <td>5.046716</td>\n",
       "      <td>129.781714</td>\n",
       "      <td>-31.228841</td>\n",
       "    </tr>\n",
       "    <tr>\n",
       "      <th>...</th>\n",
       "      <td>...</td>\n",
       "      <td>...</td>\n",
       "      <td>...</td>\n",
       "      <td>...</td>\n",
       "      <td>...</td>\n",
       "    </tr>\n",
       "    <tr>\n",
       "      <th>153942</th>\n",
       "      <td>2.099753</td>\n",
       "      <td>-7.419651</td>\n",
       "      <td>-13.775725</td>\n",
       "      <td>6.185286</td>\n",
       "      <td>3.016338</td>\n",
       "    </tr>\n",
       "    <tr>\n",
       "      <th>153954</th>\n",
       "      <td>1.611472</td>\n",
       "      <td>-6.931369</td>\n",
       "      <td>-4.010100</td>\n",
       "      <td>2.279036</td>\n",
       "      <td>-28.721944</td>\n",
       "    </tr>\n",
       "    <tr>\n",
       "      <th>153966</th>\n",
       "      <td>4.052878</td>\n",
       "      <td>11.135037</td>\n",
       "      <td>12.591463</td>\n",
       "      <td>2.767317</td>\n",
       "      <td>-27.745381</td>\n",
       "    </tr>\n",
       "    <tr>\n",
       "      <th>153971</th>\n",
       "      <td>27.002097</td>\n",
       "      <td>-3.513401</td>\n",
       "      <td>18.450838</td>\n",
       "      <td>20.833723</td>\n",
       "      <td>-30.675069</td>\n",
       "    </tr>\n",
       "    <tr>\n",
       "      <th>153978</th>\n",
       "      <td>-17.431497</td>\n",
       "      <td>-4.978244</td>\n",
       "      <td>8.685213</td>\n",
       "      <td>4.720442</td>\n",
       "      <td>40.613994</td>\n",
       "    </tr>\n",
       "  </tbody>\n",
       "</table>\n",
       "<p>17750 rows × 5 columns</p>\n",
       "</div>"
      ],
      "text/plain": [
       "               ch1        ch2        ch3         ch4        ch5\n",
       "1      -210.957777   3.873592  -0.324377   75.582495 -80.545247\n",
       "12      104.471910  -7.845158  -7.648596  205.465308  24.435221\n",
       "24      348.612535  -0.032658  -3.742346  199.117652  60.079753\n",
       "33      247.538317  -4.427189   1.628748  252.828589  20.528971\n",
       "36      215.311754  24.381404   5.046716  129.781714 -31.228841\n",
       "...            ...        ...        ...         ...        ...\n",
       "153942    2.099753  -7.419651 -13.775725    6.185286   3.016338\n",
       "153954    1.611472  -6.931369  -4.010100    2.279036 -28.721944\n",
       "153966    4.052878  11.135037  12.591463    2.767317 -27.745381\n",
       "153971   27.002097  -3.513401  18.450838   20.833723 -30.675069\n",
       "153978  -17.431497  -4.978244   8.685213    4.720442  40.613994\n",
       "\n",
       "[17750 rows x 5 columns]"
      ]
     },
     "execution_count": 99,
     "metadata": {},
     "output_type": "execute_result"
    }
   ],
   "source": [
    "# Create feature vector and drop rows that had no cursor movement\n",
    "inputs = df[['ch1','ch2','ch3','ch4','ch5']].copy()\n",
    "inputs = inputs.drop(i)\n",
    "#inputs = inputs-inputs.mean()\n",
    "X = inputs.to_numpy()\n",
    "print(len(X))\n",
    "inputs"
   ]
  },
  {
   "cell_type": "code",
   "execution_count": 100,
   "metadata": {},
   "outputs": [],
   "source": [
    "X_train, X_test, y_train, y_test = train_test_split(X, y, test_size=0.33, random_state=42)"
   ]
  },
  {
   "cell_type": "code",
   "execution_count": 101,
   "metadata": {},
   "outputs": [
    {
     "name": "stdout",
     "output_type": "stream",
     "text": [
      "<class 'numpy.ndarray'>\n",
      "(11892, 5)\n"
     ]
    }
   ],
   "source": [
    "print(type(X_train))\n",
    "print(X_train.shape)"
   ]
  },
  {
   "cell_type": "code",
   "execution_count": 102,
   "metadata": {},
   "outputs": [
    {
     "name": "stdout",
     "output_type": "stream",
     "text": [
      "(11892, 1)\n",
      "(11892,)\n"
     ]
    }
   ],
   "source": [
    "print(y_train.shape)\n",
    "y_train = y_train.ravel()\n",
    "print(y_train.shape)"
   ]
  },
  {
   "cell_type": "code",
   "execution_count": 110,
   "metadata": {},
   "outputs": [
    {
     "data": {
      "text/plain": [
       "MLPClassifier(hidden_layer_sizes=(50,), max_iter=60000, random_state=10,\n",
       "              solver='lbfgs')"
      ]
     },
     "execution_count": 110,
     "metadata": {},
     "output_type": "execute_result"
    }
   ],
   "source": [
    "clf_30_12 = MLPClassifier(solver='lbfgs', alpha=1e-4, hidden_layer_sizes=(50,), random_state=10, max_iter=60000)\n",
    "clf_30_12.fit(X_train, y_train)"
   ]
  },
  {
   "cell_type": "code",
   "execution_count": 111,
   "metadata": {},
   "outputs": [
    {
     "name": "stdout",
     "output_type": "stream",
     "text": [
      "(clf_30_12) balanced accuracy on train: 0.3526847551541016\n",
      "(clf_30_12) balanced accuracy on test: 0.30710047502394455\n",
      "\n",
      "y_hat 1, 2286\n",
      "y_test 1, 1586\n"
     ]
    }
   ],
   "source": [
    "y_hat = clf_30_12.predict(X_test)\n",
    "y_hat_train = clf_30_12.predict(X_train)\n",
    "print(f\"(clf_30_12) balanced accuracy on train: {balanced_accuracy_score(y_train, y_hat_train)}\")\n",
    "print(f\"(clf_30_12) balanced accuracy on test: {balanced_accuracy_score(y_test, y_hat)}\")\n",
    "print()\n",
    "print(f\"y_hat 1, {(y_hat == 1).sum()}\")\n",
    "print(f\"y_test 1, {(y_test == 1).sum()}\")\n"
   ]
  },
  {
   "cell_type": "code",
   "execution_count": 107,
   "metadata": {},
   "outputs": [
    {
     "name": "stderr",
     "output_type": "stream",
     "text": [
      "/Users/carterblair/opt/anaconda3/lib/python3.7/site-packages/sklearn/utils/deprecation.py:87: FutureWarning: Function plot_confusion_matrix is deprecated; Function `plot_confusion_matrix` is deprecated in 1.0 and will be removed in 1.2. Use one of the class methods: ConfusionMatrixDisplay.from_predictions or ConfusionMatrixDisplay.from_estimator.\n",
      "  warnings.warn(msg, category=FutureWarning)\n"
     ]
    },
    {
     "data": {
      "image/png": "[encoded data removed]",
      "text/plain": [
       "<Figure size 432x288 with 2 Axes>"
      ]
     },
     "metadata": {
      "needs_background": "light"
     },
     "output_type": "display_data"
    }
   ],
   "source": [
    "plot_confusion_matrix(clf_30_12, X_train, y_train)\n",
    "plt.show()"
   ]
  },
  {
   "cell_type": "code",
   "execution_count": 108,
   "metadata": {},
   "outputs": [
    {
     "name": "stderr",
     "output_type": "stream",
     "text": [
      "/Users/carterblair/opt/anaconda3/lib/python3.7/site-packages/sklearn/utils/deprecation.py:87: FutureWarning: Function plot_confusion_matrix is deprecated; Function `plot_confusion_matrix` is deprecated in 1.0 and will be removed in 1.2. Use one of the class methods: ConfusionMatrixDisplay.from_predictions or ConfusionMatrixDisplay.from_estimator.\n",
      "  warnings.warn(msg, category=FutureWarning)\n"
     ]
    },
    {
     "data": {
      "image/png": "[encoded data removed]",
      "text/plain": [
       "<Figure size 432x288 with 2 Axes>"
      ]
     },
     "metadata": {
      "needs_background": "light"
     },
     "output_type": "display_data"
    }
   ],
   "source": [
    "plot_confusion_matrix(clf_30_12, X_test, y_test)\n",
    "plt.show()"
   ]
  },
  {
   "cell_type": "code",
   "execution_count": 109,
   "metadata": {},
   "outputs": [
    {
     "name": "stdout",
     "output_type": "stream",
     "text": [
      "y_train 1, 3262\n",
      "y_train 2, 2774\n",
      "y_train 3, 2992\n",
      "y_train 4, 2864\n"
     ]
    }
   ],
   "source": [
    "print(f\"y_train 1, {(y_train == 1).sum()}\")\n",
    "print(f\"y_train 2, {(y_train == 2).sum()}\")\n",
    "print(f\"y_train 3, {(y_train == 3).sum()}\")\n",
    "print(f\"y_train 4, {(y_train == 4).sum()}\")"
   ]
  },
  {
   "cell_type": "code",
   "execution_count": 40,
   "metadata": {},
   "outputs": [],
   "source": [
    "#y = y.ravel()\n",
    "#scores = cross_val_score(clf_30_12, X, y, cv=3)\n",
    "#print(\"%0.2f accuracy with a standard deviation of %0.2f\" % (scores.mean(), scores.std()))"
   ]
  },
  {
   "cell_type": "markdown",
   "metadata": {},
   "source": [
    "### Now using AutoKeras"
   ]
  },
  {
   "cell_type": "code",
   "execution_count": 141,
   "metadata": {},
   "outputs": [
    {
     "name": "stdout",
     "output_type": "stream",
     "text": [
      "Trial 47 Complete [00h 03m 02s]\n",
      "val_accuracy: 0.32258063554763794\n",
      "\n",
      "Best val_accuracy So Far: 0.36035653948783875\n",
      "Total elapsed time: 00h 32m 16s\n",
      "\n",
      "Search: Running Trial #48\n",
      "\n",
      "Value             |Best Value So Far |Hyperparameter\n",
      "True              |True              |structured_data_block_1/normalize\n",
      "False             |False             |structured_data_block_1/dense_block_1/use_batchnorm\n",
      "3                 |3                 |structured_data_block_1/dense_block_1/num_layers\n",
      "32                |32                |structured_data_block_1/dense_block_1/units_0\n",
      "0                 |0                 |structured_data_block_1/dense_block_1/dropout\n",
      "64                |64                |structured_data_block_1/dense_block_1/units_1\n",
      "0                 |0.5               |classification_head_1/dropout\n",
      "adam              |adam              |optimizer\n",
      "0.001             |0.001             |learning_rate\n",
      "32                |32                |structured_data_block_1/dense_block_1/units_2\n",
      "\n",
      "Epoch 1/1000\n",
      "298/298 [==============================] - 2s 4ms/step - loss: 1.3770 - accuracy: 0.2958 - val_loss: 1.3704 - val_accuracy: 0.3052\n",
      "Epoch 2/1000\n",
      "298/298 [==============================] - 1s 3ms/step - loss: 1.3672 - accuracy: 0.3116 - val_loss: 1.3686 - val_accuracy: 0.3005\n",
      "Epoch 3/1000\n",
      "298/298 [==============================] - 1s 3ms/step - loss: 1.3626 - accuracy: 0.3164 - val_loss: 1.3665 - val_accuracy: 0.3090\n",
      "Epoch 4/1000\n",
      "298/298 [==============================] - 1s 3ms/step - loss: 1.3591 - accuracy: 0.3190 - val_loss: 1.3651 - val_accuracy: 0.3115\n",
      "Epoch 5/1000\n",
      "298/298 [==============================] - 1s 3ms/step - loss: 1.3560 - accuracy: 0.3256 - val_loss: 1.3647 - val_accuracy: 0.3137\n",
      "Epoch 6/1000\n",
      "298/298 [==============================] - 1s 3ms/step - loss: 1.3529 - accuracy: 0.3281 - val_loss: 1.3638 - val_accuracy: 0.3128\n",
      "Epoch 7/1000\n",
      "298/298 [==============================] - 1s 3ms/step - loss: 1.3501 - accuracy: 0.3286 - val_loss: 1.3636 - val_accuracy: 0.3162\n",
      "Epoch 8/1000\n",
      "298/298 [==============================] - 1s 3ms/step - loss: 1.3478 - accuracy: 0.3321 - val_loss: 1.3630 - val_accuracy: 0.3179\n",
      "Epoch 9/1000\n",
      "298/298 [==============================] - 1s 3ms/step - loss: 1.3455 - accuracy: 0.3374 - val_loss: 1.3626 - val_accuracy: 0.3209\n",
      "Epoch 10/1000\n",
      "298/298 [==============================] - 1s 2ms/step - loss: 1.3434 - accuracy: 0.3376 - val_loss: 1.3623 - val_accuracy: 0.3188\n",
      "Epoch 11/1000\n",
      "298/298 [==============================] - 1s 3ms/step - loss: 1.3411 - accuracy: 0.3398 - val_loss: 1.3629 - val_accuracy: 0.3222\n",
      "Epoch 12/1000\n",
      "298/298 [==============================] - 1s 3ms/step - loss: 1.3393 - accuracy: 0.3424 - val_loss: 1.3619 - val_accuracy: 0.3234\n",
      "Epoch 13/1000\n",
      "298/298 [==============================] - 1s 3ms/step - loss: 1.3375 - accuracy: 0.3426 - val_loss: 1.3614 - val_accuracy: 0.3294\n",
      "Epoch 14/1000\n",
      "298/298 [==============================] - 1s 3ms/step - loss: 1.3356 - accuracy: 0.3438 - val_loss: 1.3616 - val_accuracy: 0.3311\n",
      "Epoch 15/1000\n",
      "298/298 [==============================] - 1s 3ms/step - loss: 1.3339 - accuracy: 0.3462 - val_loss: 1.3613 - val_accuracy: 0.3289\n",
      "Epoch 16/1000\n",
      "298/298 [==============================] - 1s 3ms/step - loss: 1.3322 - accuracy: 0.3443 - val_loss: 1.3617 - val_accuracy: 0.3272\n",
      "Epoch 17/1000\n",
      "298/298 [==============================] - 1s 3ms/step - loss: 1.3304 - accuracy: 0.3475 - val_loss: 1.3621 - val_accuracy: 0.3251\n",
      "Epoch 18/1000\n",
      "298/298 [==============================] - 1s 3ms/step - loss: 1.3289 - accuracy: 0.3504 - val_loss: 1.3622 - val_accuracy: 0.3281\n",
      "Epoch 19/1000\n",
      "298/298 [==============================] - 1s 3ms/step - loss: 1.3273 - accuracy: 0.3533 - val_loss: 1.3625 - val_accuracy: 0.3247\n",
      "Epoch 20/1000\n",
      "298/298 [==============================] - 1s 2ms/step - loss: 1.3255 - accuracy: 0.3537 - val_loss: 1.3624 - val_accuracy: 0.3247\n",
      "Epoch 21/1000\n",
      "144/298 [=============>................] - ETA: 0s - loss: 1.3219 - accuracy: 0.3555"
     ]
    }
   ],
   "source": [
    "clf = ak.StructuredDataClassifier(max_trials=100)\n",
    "# Feed the structured data classifier with training data.\n",
    "y_train = y_train.reshape(-1,1)\n",
    "y_train = y_train.astype(int)\n",
    "\n",
    "#clf.fit(X_train, y_train, epochs=10)\n",
    "clf.fit(X_train, y_train)"
   ]
  },
  {
   "cell_type": "code",
   "execution_count": 139,
   "metadata": {},
   "outputs": [
    {
     "name": "stdout",
     "output_type": "stream",
     "text": [
      "184/184 [==============================] - 0s 1ms/step\n",
      "184/184 [==============================] - 0s 1ms/step\n",
      "372/372 [==============================] - 0s 1ms/step\n",
      "372/372 [==============================] - 0s 1ms/step\n"
     ]
    }
   ],
   "source": [
    "predicted_y = clf.predict(X_test)\n",
    "predicted_y_train = clf.predict(X_train)"
   ]
  },
  {
   "cell_type": "code",
   "execution_count": 140,
   "metadata": {},
   "outputs": [
    {
     "name": "stdout",
     "output_type": "stream",
     "text": [
      "(AutoKeras) balanced accuracy on train: 0.3386576035271175\n",
      "(AutoKeras) balanced accuracy on test: 0.3130492024140553\n"
     ]
    }
   ],
   "source": [
    "predicted_y = predicted_y.astype(int)\n",
    "y_test = y_test.astype(int)\n",
    "predicted_y_train = predicted_y_train.astype(int)\n",
    "y_train = y_train.astype(int)\n",
    "\n",
    "print(f\"(AutoKeras) balanced accuracy on train: {balanced_accuracy_score(y_train, predicted_y_train)}\")\n",
    "print(f\"(AutoKeras) balanced accuracy on test: {balanced_accuracy_score(y_test, predicted_y)}\")"
   ]
  },
  {
   "cell_type": "code",
   "execution_count": null,
   "metadata": {},
   "outputs": [],
   "source": []
  }
 ],
 "metadata": {
  "interpreter": {
   "hash": "4b619090a826ed4a6e8257be5d84aeec26c1a7794a24ff9f61a36eab60f113d9"
  },
  "kernelspec": {
   "display_name": "Python 3.7.4 ('base')",
   "language": "python",
   "name": "python3"
  },
  "language_info": {
   "codemirror_mode": {
    "name": "ipython",
    "version": 3
   },
   "file_extension": ".py",
   "mimetype": "text/x-python",
   "name": "python",
   "nbconvert_exporter": "python",
   "pygments_lexer": "ipython3",
   "version": "3.7.4"
  },
  "orig_nbformat": 4
 },
 "nbformat": 4,
 "nbformat_minor": 2
}
